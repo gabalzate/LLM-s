{
 "cells": [
  {
   "cell_type": "markdown",
   "metadata": {},
   "source": [
    "# Consulta de documentos con RAG con Ollama, Langchain y llama2\n",
    "\n"
   ]
  },
  {
   "cell_type": "markdown",
   "metadata": {},
   "source": [
    "<p align=\"center\">\n",
    "<img src =\"logoSena.png\">\n",
    "</p>"
   ]
  },
  {
   "cell_type": "markdown",
   "metadata": {},
   "source": [
    "## LLM's corriendo a nivel local.\n",
    "\n",
    "Aprendizaje - Barato - Bajo poder para tareas especificas - Privacidad\n",
    "Robotica - Edge AI "
   ]
  },
  {
   "cell_type": "markdown",
   "metadata": {},
   "source": [
    "# Ollama\n",
    "Permite correr LLM's de manera local.  \n",
    "+ Vamos a bajar el modelo y dejarlo en local, ahi tenemos una interfaz completa para interactuar con el modelo.\n",
    "\n",
    "+ Available Commands:\n",
    "  + serve       Start ollama\n",
    "  + create      Create a model from a Modelfile\n",
    "  + show        Show information for a model\n",
    "  + run         Run a model\n",
    "  + pull        Pull a model from a registry\n",
    "  + push        Push a model to a registry\n",
    "  + list        List models\n",
    "  + cp          Copy a model\n",
    "  + rm          Remove a model\n",
    "  + help        Help about any command\n",
    "\n"
   ]
  },
  {
   "cell_type": "code",
   "execution_count": 2,
   "metadata": {},
   "outputs": [],
   "source": [
    "# Librerias a usar\n",
    "\n",
    "# Entorno virtual (conda, miniconda, poetry), yo uso venv\n",
    "# Key's para conexión a servicios en .env OPENAI_API_KEY= sk.....\n",
    "# python_dotenv\n",
    "# langchain_openai (Me permite conectarme con la api de openai)\n",
    "# "
   ]
  },
  {
   "cell_type": "code",
   "execution_count": 37,
   "metadata": {
    "metadata": {}
   },
   "outputs": [],
   "source": [
    "import os\n",
    "from dotenv import load_dotenv\n",
    "\n",
    "load_dotenv()\n",
    "\n",
    "#OPENAI_API_KEY = os.getenv(\"OPENAI_API_KEY\")\n",
    "#MODEL = \"gpt-3.5-turbo\"\n",
    "MODEL = \"llama2\""
   ]
  },
  {
   "cell_type": "code",
   "execution_count": 4,
   "metadata": {},
   "outputs": [],
   "source": [
    "# Libreria\n",
    "# langchain-community"
   ]
  },
  {
   "cell_type": "code",
   "execution_count": 38,
   "metadata": {
    "metadata": {}
   },
   "outputs": [
    {
     "data": {
      "text/plain": [
       "'¡Claro! Aquí tienes uno:\\n\\n¿Por qué el león siempre gana en el ajedrez?\\nPorque siempre come al alfoz!'"
      ]
     },
     "execution_count": 38,
     "metadata": {},
     "output_type": "execute_result"
    }
   ],
   "source": [
    "from langchain_openai.chat_models import ChatOpenAI\n",
    "from langchain_openai.embeddings import OpenAIEmbeddings\n",
    "from langchain_community.llms import Ollama\n",
    "from langchain_community.embeddings import OllamaEmbeddings\n",
    "\n",
    "if MODEL.startswith(\"gpt\"):\n",
    "    model = ChatOpenAI(api_key=OPENAI_API_KEY, model = MODEL)\n",
    "    embeddings = OpenAIEmbeddings()\n",
    "else:\n",
    "    model = Ollama(model = MODEL)    \n",
    "    embeddings = OllamaEmbeddings()\n",
    "\n",
    "\n",
    "model.invoke(\"Cuentame un chiste\")"
   ]
  },
  {
   "cell_type": "markdown",
   "metadata": {},
   "source": [
    "### Langchain soporta el concepto de parser (segmentador?)\n",
    "En caso que usemos chatgpt, ya que envia el mensaje de salida como una salida de chat con una metadata de chat  \n",
    "AIMesagge....\n",
    "\n",
    "En cambio llama2 es un completion model y devuelve un string."
   ]
  },
  {
   "cell_type": "code",
   "execution_count": 9,
   "metadata": {
    "metadata": {}
   },
   "outputs": [
    {
     "data": {
      "text/plain": [
       "'Sí, ¡claro! Aquí tienes uno:\\n\\n¿Por qué el león siempre gana en las carreras?\\nPorque siempre come a los demás concursantes antes de la carrera... ¡ya veis! 😂'"
      ]
     },
     "execution_count": 9,
     "metadata": {},
     "output_type": "execute_result"
    }
   ],
   "source": [
    "from langchain_core.output_parsers import StrOutputParser\n",
    "\n",
    "parser = StrOutputParser()\n",
    "\n",
    "#Primer langchain, tomar el modelo y unir la salida del modelo con la entrada del parseador\n",
    "chain = model | parser \n",
    "# Ya no invoco (llamo) al modelo, ahora llamo a la cadena\n",
    "chain.invoke(\"Cuentame un chiste\")"
   ]
  },
  {
   "cell_type": "markdown",
   "metadata": {},
   "source": [
    "### Langchain soporta loaders de documentos, y permite cargarlo y separarlo (load and split)"
   ]
  },
  {
   "cell_type": "code",
   "execution_count": 10,
   "metadata": {
    "metadata": {}
   },
   "outputs": [
    {
     "data": {
      "text/plain": [
       "[Document(page_content='HomeMy Network Jobs MessagingNotiﬁcations Me\\nFor BusinessNetwork Smarter,Try Premium Free11Create your own newsletter\\nStart your own discussion with a newsletter on LinkedIn. Share what you know and build\\nyour thought leadership with every new edition.\\nTry it out(2) What is Graph Theory, and why should you care? | ... https://www.linkedin.com/pulse/what-graph-theory-wh...\\n1 of 10 5/27/24, 22:07', metadata={'source': 'grafo.pdf', 'page': 0}),\n",
       " Document(page_content='What is Graph Theory,\\nand why should you\\ncare?A graph visualization issued from the Opte Project, a tentative cartography of the Internet:\\nhttps://en.wikipedia.org/wiki/Opte_Project\\nVegard Flovik, PhD9 articlesFollow\\nAugust 13, 2020Open Immersive Reader\\nFrom graph theory to path\\noptimization\\nGraph theory  might sound like an intimidating and abstract topic to you,\\nso why should you even spend your time reading an article about it?\\nHowever, although it might not sound very applicable, there are actually\\nan abundance of useful and important applications of graph theory! In\\nthis article, I will try to explain brieﬂy what some of these applications\\nare. In doing so, I will do my best to convince you that having at least\\nsome basic knowledge of this topic can be useful in solving some\\ninteresting problems you might come across.\\nIn this article, I will through a concrete example show how a route\\nplanning/optimization task can be formulated and solved using graph\\ntheory. More speciﬁcally, I will consider a large warehouse consisting of\\n1000s of diﬀerent items in various locations/pickup points. The\\nchallenge here is, given a list of items, which path should you follow\\nthrough the warehouse to pickup all items, but at the same time\\nminimize the total distance traveled? For those of you familiar with these\\nkind of problems, this has quite some resemblance to the\\nfamous\\xa0traveling salesman problem . (A well known problem\\nin\\xa0combinatorial optimization , important in\\xa0 theoretical computer\\nscience \\xa0and\\xa0operations research ).\\nAs you might have realized, the goal of this article is not to give a\\ncomprehensive introduction to graph theory (which would be quite a\\ntremendous task). Through a real-world example, I will rather try to\\nconvince you that knowing at least some\\xa0 basics \\xa0of graph theory can\\nprove to be very useful!\\nI will start with a brief historical introduction to the ﬁeld of graph theory,\\nand highlight the importance and the wide range of useful applications\\nin many vastly diﬀerent ﬁelds. Following this more general introduction,I will then shift focus to the warehouse optimization example discussed\\nVP AI & Data Science at Aize | AssociateProfessor in Data Science(2) What is Graph Theory, and why should you care? | ... https://www.linkedin.com/pulse/what-graph-theory-wh...\\n2 of 10 5/27/24, 22:07', metadata={'source': 'grafo.pdf', 'page': 1}),\n",
       " Document(page_content='I will then shift focus to the warehouse optimization example discussedabove.\\nThe history of Graph Theory\\nThe basic idea of graphs were ﬁrst introduced in the 18th century by the\\nSwiss mathematician\\xa0 Leonhard Euler , one of the most eminent\\nmathematicians of the 18th century (and of all time, really). His work on\\nthe famous “ Seven Bridges of Königsberg problem ”, are commonly\\nquoted as origin of\\xa0 graph theory .\\nThe city of Königsberg in Prussia (now Kaliningrad, Russia) was set on\\nboth sides of the Pregel River, and included two large islands —\\nKneiphof and Lomse — which were connected to each other, or to the\\ntwo mainland portions of the city, by seven bridges (as illustrated in the\\nbelow ﬁgure to the left). The problem was to devise a walk through the\\ncity that would cross each of those bridges once and only once.\\nEuler, recognizing that the relevant constraints were the four bodies of\\nland & the seven bridges, drew out the ﬁrst known visual representation\\nof a modern graph. A modern graph, as seen in bottom-right image, is\\nrepresented by a set of points, known as\\xa0vertices or nodes, connected by\\na set of lines known as edges.\\nThis abstraction from a concrete problem concerning a city and bridges\\netc. to a graph makes the problem tractable mathematically, as this\\nabstract representation includes only the information important for\\nsolving the problem. Euler actually proved that this speciﬁc problem has\\nno solution. However, the diﬃculty he faced was the\\xa0 development of a\\nsuitable technique of analysis , and of subsequent tests that\\nestablished this assertion with mathematical rigor. From there, the\\nbranch of math known as graph theory lay dormant for decades. In\\nmodern times, however, it’s applications are ﬁnally exploding.\\nIntroduction to Graph Theory\\nAs mentioned previously, I do not aim to give a comprehensive\\nintroduction to graph theory. The following section still contains some\\nof the basics when it comes to diﬀerent kind of graphs etc., which is of\\nrelevance to the example we will discuss later on path optimization.\\nGraph Theory \\xa0is ultimately the study of\\xa0relationships. Given a set of\\nnodes & connections, which can abstract anything from city layouts to\\ncomputer data, graph theory provides a helpful tool to quantify &\\nsimplify the many moving parts of dynamic systems. Studying graphs\\nthrough a framework provides answers to many arrangement,\\nnetworking, optimization, matching and operational problems.\\nGraphs can be used to model many types of relations and processes in\\nphysical, biological, social and information systems, and has a wide range\\nof useful applications such as e.g.\\n• Finding communities in networks, such as social\\nmedia (friend/connection recommendations), or in\\nthe recent days for possible spread of COVID19 in the\\ncommunity through contacts.\\n• Ranking/ordering hyperlinks in search engines.\\n• GPS/Google maps to ﬁnd the shortest path home.\\n• Study of molecules and atoms in chemistry.\\n• DNA sequencing\\n• Computer network security\\n• ….. and many more….\\n(2) What is Graph Theory, and why should you care? | ... https://www.linkedin.com/pulse/what-graph-theory-wh...\\n3 of 10 5/27/24, 22:07', metadata={'source': 'grafo.pdf', 'page': 2}),\n",
       " Document(page_content='A simple example of a graph with 6 nodes\\nA slightly more complex social media network. Credit:\\xa0 Martin\\nGrandjean\\xa0Wikimedia\\nAs mentioned, there are several types of graphs that describe diﬀerent\\nkind of problems (and the constraints within them). A nice walk-through\\nof various types of graphs can also be found in a\\xa0 previous\\narticle \\xa0by\\xa0Kelvin Jose, \\xa0and the below section represents a subset of that\\narticle.\\nTypes of Graphs\\nThere are diﬀerent types of graph representations available and we have\\nto make sure that we understand the kind of graph we are working with\\nwhen programmatically solving a problem which includes graphs.\\nUndirected Graphs\\nAs the name shows, there won’t be any speciﬁed directions between nodes.\\nSo an edge from node A to B would be\\xa0identical\\xa0to the edge from B to A.\\nIn the above graph, each node could represent diﬀerent cities and the\\nedges show the bidirectional roads.\\nDirected Graphs (DiGraphs)\\nUnlike undirected graphs, directed graphs have orientation\\nor\\xa0direction\\xa0among diﬀerent nodes. That means if you have an edge from\\nnode A to B, you can move only from A to B.\\nLike the previous example, if we consider nodes as cities, we have a\\ndirection from city 1 to 2. That means, you can drive from city 1 to 2 but not\\nback to city 1, because there is no direction back to city 1 from 2. But if weclosely examine the graph, we can see cities with bi-direction. For example\\n(2) What is Graph Theory, and why should you care? | ... https://www.linkedin.com/pulse/what-graph-theory-wh...\\n4 of 10 5/27/24, 22:07', metadata={'source': 'grafo.pdf', 'page': 3}),\n",
       " Document(page_content='closely examine the graph, we can see cities with bi-direction. For examplecities 3 and 4 have directions to both sides.\\n• Weighted Graphs\\nMany graphs can have edges containing a weight associated to represent a\\nreal world implication such as cost, distance, quantity etc …\\nCredit:\\xa0Estefania Cassingena Navone \\xa0via\\xa0freecodecamp.org\\nWeighted graphs \\xa0could be either directed or undirected graph. The one we\\nhave in this example is an undirected weighted graph. The cost (or distance)\\nfrom the green to the orange node (and vice versa) is 3. Like our previous\\nexample, if you want to travel between two cities, say city green and\\norange, we would have to drive 3 miles. These metrics are self-deﬁned and\\ncould be changed according to the situations. For a more elaborated\\nexample, consider you have to travel to city pink from green. If you look at\\nthe city graph, we can’t ﬁnd any direct roads or edges between the two\\ncities. So what we can do is to travel via another city. The most promising\\nroutes would be starting from green to pink via orange and blue. If the\\nweights are costs between cities, we would have to spend 11$ to travel via\\nblue to reach pink but if we take the other route via orange, we would only\\nhave to pay 10$ for the trip.\\nThere may be several weights associated with each edge, including\\ndistance, travel time, or monetary cost. Such weighted graphs are\\ncommonly used to program GPS’s, and travel-planning search engines that\\ncompare ﬂight times and costs.\\nGraph Theory → Route optimization\\nHaving (hopefully) convinced you that graph theory is worth knowing\\nsomething about, it is now time to focus on our example case of route\\nplanning when picking items in our warehouse.\\nChallenge:\\nThe challenge here is that given a “picking list” as input, we should ﬁnd\\nthe shortest route that passes all the pickup points, but also complies to\\nthe restrictions with regard to where it is possible/allowed to drive. The\\nassumptions and constraints here are that crossing between corridors in\\nthe warehouse is only allowed at marked “turning points”. Also, the\\ndirection of travel must follow the speciﬁed legal driving direction for\\neach corridor.\\nSolution:\\nThis problem can be formulated as an optimization problem in graph\\ntheory.\\nAll pickup points in the warehouse form a “node” in the graph, where the\\nedges represent permitted lanes/corridors and distances between the\\nnodes. To introduce the problem more formally, let us start from a\\nsimpliﬁed example.\\nThe graph below represents 2 corridors with 5 shelves/pickup-points per\\ncorridor. All shelves are here represented as a node in the graph, with an\\naddress ranging from 1–10. The arrows indicate the permitted driving\\ndirection, where the double arrows indicate that you can drive either\\nway. Simple enough, right?\\nBeing able to represent the permitted driving routes in the form of a\\ngraph, means that we can use mathematical techniques known fromgraph theory to ﬁnd the optimal “driving route” between the nodes (i.e.,\\n(2) What is Graph Theory, and why should you care? | ... https://www.linkedin.com/pulse/what-graph-theory-wh...\\n5 of 10 5/27/24, 22:07', metadata={'source': 'grafo.pdf', 'page': 4}),\n",
       " Document(page_content='graph theory to ﬁnd the optimal “driving route” between the nodes (i.e.,the stock shelves in our warehouse).\\nThe example graph above can be described mathematically through an\\n«adjacency matrix ». The adjacency matrix to the right in the below\\nﬁgure is thus a representation of our «warehouse graph», which\\nindicates all permitted driving routes between the various nodes.\\n• Example 1: \\xa0You are allowed to travel from node 2 →\\n3, but not from 3 → 2. This is indicated by the “1” in\\nthe adjacency matrix to the right.\\n• Example 2: \\xa0You are allowed to go from both node 8\\n→ 3, and from 3 → 8, again indicated by the “1”`s in\\nthe adjacency matrix (which in this case is symmetric\\nwhen it comes to travel direction).\\nBack to our warehouse problem:\\nA real warehouse is of course bigger and more complex than the above\\nexample. However, the main principles of how to represent the problem\\nthrough a graph remains the same. To make the real problem slightly\\nsimpler (and more visually suitable for this article), I have reduced the\\ntotal number of shelves/pickup-points (approximately every 50th shelf\\nincluded, marked with black squares in the below ﬁgure). All pickup\\npoints are given an address (“node number”) from 1–74. The other\\nrelevant constraints mentioned earlier, such as permitted driving\\ndirections in each of the corridors, as well as the allowed “turning\\npoints” and shortcuts between the corridors are also indicated in the\\nﬁgure.\\nThe next step is then to represent this graph in the form of a adjacency\\nmatrix. Since we are here interested in ﬁnding both the optimal route\\nand total distance, we must also include the driving distance between\\nthe various nodes in the matrix.\\n(2) What is Graph Theory, and why should you care? | ... https://www.linkedin.com/pulse/what-graph-theory-wh...\\n6 of 10 5/27/24, 22:07', metadata={'source': 'grafo.pdf', 'page': 5}),\n",
       " Document(page_content='This matrix indicates all constraints with regard to both the permitted\\ndirection of travel, which “shortcuts” are permitted, any other\\nrestrictions as well as the driving distance between the nodes\\n(illustrated through the color). As an example, the “shortcut” between\\nnodes 21 and 41 shown in the graph representation can clearly be\\nidentiﬁed also in the adjacency matrix. The “white areas” of the matrix\\nrepresents the paths that are not allowed, indicated through an\\n“inﬁnite” distance between those nodes.\\nFrom graph representation to path optimization\\nJust having an abstracted representation of our warehouse in the form\\nof a graph, does of course not solve our actual problem. The idea is\\nrather that through this graph representation, we can now use the\\nmathematical framework and algorithms from graph theory to solve it!\\nSince graph optimization is a well-known ﬁeld in mathematics, there are\\nseveral methods and algorithms that can solve this type of problem. In\\nthis example case, I have based the solution on the “ Floyd-Warshall\\nalgorithm ”, which is a well known\\xa0 algorithm \\xa0for ﬁnding\\xa0 shortest\\npaths \\xa0in a\\xa0weighted graph . A single execution of the algorithm will ﬁnd\\nthe lengths (summed weights) of shortest paths between all pairs of\\nnodes. Although it does not return details of the paths themselves, it is\\npossible to reconstruct the paths with simple modiﬁcations to the\\nalgorithm.\\nIf you give this algorithm as input a “picking order list” where you go\\nthrough a list of items you want to pick, you should then be able to\\nobtain the optimal route which minimize the total driving distance to\\ncollect all items on the list.\\nExample:\\xa0 Let us start by visualizing the results for a (short) picking list as\\nfollows: Start from node «0», pick up items at location/node 15, 45, 58\\nand 73 (where these locations are illustrated in the ﬁgure below). The\\nalgorithm ﬁnds the shortest allowable route between these points\\nthrough calculating the “distance matrix”,\\xa0 D, which can then be used to\\ndetermine the total driving distance between all locations/nodes in the\\npicking list.\\n• Step 1:\\xa0D[0][15] → 90 m\\n• Step 2:\\xa0D[15][45] →52 m\\n• Step 3:\\xa0D[45][58] → 34 m\\n• Step 4:\\xa0D[58][73] → 92 m\\nTotal distance = 268m\\nHave tested several “picking lists” as input and verifying the proposed\\ndriving routes and calculated distance, the algorithm has been able to\\nﬁnd the optimal route in all cases. The algorithm respects all the\\nimposed constraints, such as the permitted direction of travel, and uses\\nall permitted “shortcuts” to minimize the total distance.\\nFrom path optimization to useful\\ninsights\\nAs shown through the above example, we have developed an\\noptimization algorithm that calculates the optimal driving route via all\\npoints on a picking order list (for a simpliﬁed version of the warehouse).\\n(2) What is Graph Theory, and why should you care? | ... https://www.linkedin.com/pulse/what-graph-theory-wh...\\n7 of 10 5/27/24, 22:07', metadata={'source': 'grafo.pdf', 'page': 6}),\n",
       " Document(page_content='By providing a list of picking orders as input, one can thus relatively\\neasily calculate statistics on typical mileage per. picking order. These\\nstatistics can then also be ﬁltered on various information such as item\\ntype, customer, date, etc. In the following section, I have thus picked a\\nfew examples on how one can extract interesting statistics from such a\\npath optimization tool.\\nIn doing this, I ﬁrst generated 10.000 picking order lists where the\\nnumber of items per list ranges from 1–30 items, located at random\\npickup points in the warehouse (address 3–74 in the ﬁgure above). By\\nperforming the path optimization procedure over all these picking list,\\nwe can then extract some interesting statistics.\\nExample 1:\\xa0 Calculate mileage as a function of the number of units per.\\npicking order list. Here, you would naturally assume that the total\\nmileage increases the more items you have to pick. But, at some level,\\nthis will start to ﬂatten out. This is due to the fact that one eventually\\nhas to stop by all the corridors in the warehouse to pick up goods, which\\nthen prevents us from making use of clever “shortcuts” to minimize the\\ntotal driving distance. This tendency can be illustrated in the ﬁgure\\nbelow to the left, which illustrates that for more than approximately 15–\\n20 units per picking order, adding extra items does not make the total\\nmileage much longer (as you have to drive through all corridors of the\\nwarehouse anyway). Note that the ﬁgures show a “density plot” of the\\ndistribution of typical mileage per. picking orders list\\nAnother interesting statistic, which shows the same trend, is the\\ndistribution of driving distance per picked item in the ﬁgure to the right.\\nHere, we see that for picking lists with few items, the typical mileage\\nper. item is relatively high (with a large variance, depending on how\\n“lucky” we are with some items being located in the same corridor etc.).\\nFor picking lists with several items though, the mileage per. item is\\ngradually decreasing. This type of statistic can thus be interesting to\\ninvestigate closer, in order to optimize how many items each picking\\norder list should contain in order to minimize the mileage per picked\\nitem.\\nExample 2: \\xa0Here I have used real-world data that also contains additional\\ninformation in the form of a customer ID (here shown for only two\\ncustomers). We can then take a closer look at the distribution in mileage\\nper. picking order list for the two customers. For example, do you\\ntypically have to drive longer distances to pick the goods of one\\ncustomer versus another? And, should you charge that customer extra\\nfor this additional cost?\\nThe below ﬁgure to the left shows the distribution in mileage for\\n«Customer 1» and «Customer 2» respectively. One of the things we can\\ninterpret from this is that for customer 2, most picking order lists have a\\nnoticeably shorter driving distance compared to customer 1. This can\\nalso be shown by calculating the average mileage per. picking order list\\nfor the two customers (ﬁgure to the right).\\nThis type of information can e.g. be used to implement pricing models\\nwhere the product price to the customer is also based on mileage per\\norder. For customers where the order involves more driving (and thus\\nalso more time and higher cost) you can consider invoicing extra\\ncompared to orders that involve short driving distances.\\nSummary:\\nIn the end, I hope I have convinced you that graph theory is not just some\\nabstract mathematical concept, but that it actually has many useful and\\ninteresting applications! Hopefully, the examples above will be useful forsome of you in solving similar problems later, or at least satisfy some of\\n(2) What is Graph Theory, and why should you care? | ... https://www.linkedin.com/pulse/what-graph-theory-wh...\\n8 of 10 5/27/24, 22:07', metadata={'source': 'grafo.pdf', 'page': 7}),\n",
       " Document(page_content='some of you in solving similar problems later, or at least satisfy some ofyour curiosity when it comes to graph theory and some of its\\napplications.\\nThe cases discussed in the article covers just a few examples that\\nillustrate some of the possibilities that exist. If you have previous\\nexperience and ideas on the topic, it would be interesting to hear your\\nthoughts in the comments below!\\nIf you found the article interesting, you might also enjoy some of my other\\nposts on various topics related to AI, Machine Learning, Data Science, etc.,\\navailable on my medium author proﬁle\\n(This post was originally published on towardsdatascience.com  )\\nReport this\\nPublished by\\nVegard Flovik, PhDVP AI & Data Science at Aize | Associate Professor in Data SciencePublished • 3y9\\narticlesFollow\\nBack from vacation --> time for a new blog post!\\nGraph theory might sound like an intimidating and abstract topic to you, so why\\nshould you even spend your time reading an article about it? However, although it\\nmight not sound very applicable, there are actually an abundance of useful and\\nimportant applications of graph theory!\\nThis article gives you a gentle introduction to the topic, and discuss the application\\nof graph theory for path planning/optimization (with an example case applying\\nthese techniques for warehouse optimization).\\nHope you ﬁnd it interesting!\\n#datascience #mathematics #optimization\\nReactions\\n+86\\n2 Comments\\nMost relevantAdd a comment…\\nHenri HagenowCEO AIME GmbH, GPU-Cloud, Machine Learning, AI Consulting | UX-Expert\\nLike ·1Reply·1 Reply•3rd+ 3yStephen Wolfram recently presented his graph theory of physics - veryinteresting approach and beautiful to look at:https://writings.stephenwolfram.com/2020/04/ﬁnally-we-may-have-a-path-to-the-fundamental-theory-of-physics-and-its-beautiful/\\nVegard Flovik, PhDVP AI & Data Science at Aize | Associate Professor in Data Science\\nLike ·1Reply•3rd+ 3yThanks for the link, Henri Hagenow . He does indeed have somevery interesting ideas when it comes to emergent complexety etc.However, I guess only time will show if his ideas produce any new\\nquantitative results as well.\\nVegard Flovik, PhD\\nVP AI & Data Science at Aize | Associate Professor in Data ScienceFollow\\nLikeComment Share\\n98·2 comments(2) What is Graph Theory, and why should you care? | ... https://www.linkedin.com/pulse/what-graph-theory-wh...\\n9 of 10 5/27/24, 22:07', metadata={'source': 'grafo.pdf', 'page': 8}),\n",
       " Document(page_content='More from Vegard Flovik, PhD\\nSee all 9 articles\\nHow (not) to use MachineLearning for time seriesforecasting: The sequelVegard Flovik, PhD on Linke…\\nBuilding an AI that can readyour mindVegard Flovik, PhD on Linke…\\nMachine Learning: Fromhype to real-worldapplicationsVegard Flovik, PhD on Linke…\\nAbout Accessibility Talent Solutions\\nCommunity Guidelines Careers Marketing Solutions\\nAd Choices Advertising\\nSales Solutions Mobile Small Business\\nSafety CenterQuestions?\\nVisit our Help Center.\\nManage your account and privacy\\nGo to your Settings.\\nRecommendation transparency\\nLearn more about Recommended Content.Select Language\\nLinkedIn Corporation © 2024Privacy & TermsEnglish (English)(2) What is Graph Theory, and why should you care? | ... https://www.linkedin.com/pulse/what-graph-theory-wh...\\n10 of 10 5/27/24, 22:07', metadata={'source': 'grafo.pdf', 'page': 9})]"
      ]
     },
     "execution_count": 10,
     "metadata": {},
     "output_type": "execute_result"
    }
   ],
   "source": [
    "from langchain_community.document_loaders import PyPDFLoader\n",
    "\n",
    "loader = PyPDFLoader(\"grafo.pdf\")\n",
    "pages = loader.load_and_split()\n",
    "pages"
   ]
  },
  {
   "cell_type": "markdown",
   "metadata": {},
   "source": [
    "### El siguiente paso es crear un template (promp template)"
   ]
  },
  {
   "cell_type": "code",
   "execution_count": 22,
   "metadata": {
    "metadata": {}
   },
   "outputs": [
    {
     "name": "stdout",
     "output_type": "stream",
     "text": [
      "\"\n",
      "\n",
      "Answer the question based on the context below.  If you can't\n",
      "answer the question, reply \"I don't know'\n",
      "\n",
      "\n",
      "Context: Here is some context\n",
      "\n",
      "Question: Here is a question\n",
      "\n"
     ]
    }
   ],
   "source": [
    "from langchain.prompts import PromptTemplate\n",
    "\n",
    "# Langchain me permite mandar variables en las consultas, asi que creo una consulta donde voy a enviar mis documentos como contexto\n",
    "\n",
    "template = \"\"\"\"\n",
    "\n",
    "Answer the question based on the context below.  If you can't\n",
    "answer the question, reply \"I don't know'\n",
    "\n",
    "\n",
    "Context: {context}\n",
    "\n",
    "Question: {question}\n",
    "\"\"\"\n",
    "\n",
    "prompt = PromptTemplate.from_template(template)\n",
    "print(prompt.format(context=\"Here is some context\", question=\"Here is a question\"))\n",
    "\n",
    "\n"
   ]
  },
  {
   "cell_type": "markdown",
   "metadata": {},
   "source": [
    "### ¿Cómo le paso este prompt al modelo? con una cadena"
   ]
  },
  {
   "cell_type": "code",
   "execution_count": 23,
   "metadata": {
    "metadata": {}
   },
   "outputs": [
    {
     "data": {
      "text/plain": [
       "{'title': 'PromptInput',\n",
       " 'type': 'object',\n",
       " 'properties': {'context': {'title': 'Context', 'type': 'string'},\n",
       "  'question': {'title': 'Question', 'type': 'string'}}}"
      ]
     },
     "execution_count": 23,
     "metadata": {},
     "output_type": "execute_result"
    }
   ],
   "source": [
    "chain = prompt | model | parser \n",
    "chain.input_schema.schema()"
   ]
  },
  {
   "cell_type": "markdown",
   "metadata": {},
   "source": [
    "### Ahora invoco la cadena que monté pasandole el contexto y la pregunta"
   ]
  },
  {
   "cell_type": "code",
   "execution_count": 25,
   "metadata": {
    "metadata": {}
   },
   "outputs": [
    {
     "data": {
      "text/plain": [
       "' Ah, an easy one! Based on the context you provided, your name is Gabriel.'"
      ]
     },
     "execution_count": 25,
     "metadata": {},
     "output_type": "execute_result"
    }
   ],
   "source": [
    "chain.invoke(\n",
    "    {\n",
    "        \"context\":\"El nombre que me fue dado fue Gabriel\",\n",
    "        \"question\": \"Cual es mi nombre?\"\n",
    "    }\n",
    ")"
   ]
  },
  {
   "cell_type": "markdown",
   "metadata": {},
   "source": [
    "### Necesitamos pasar SOLAMENTE lo relevante como contexto (Por aquello del RAG)\n",
    "Usamos una base de datos vectorial muy sencilla que va a almacenar la información de pages no como un documento sino que la va a volver embeddings, para comparar esos embeddings con la pregunta que el usuario hace y buscar los similares a la pregunta para determinar donde esta la información acertada."
   ]
  },
  {
   "cell_type": "code",
   "execution_count": 28,
   "metadata": {},
   "outputs": [],
   "source": [
    "# Instalamos\n",
    "# docarray\n",
    "#Una versión espacífica de pydantic==1.10.8\n",
    "# 'langchain[docarray]'"
   ]
  },
  {
   "cell_type": "markdown",
   "metadata": {},
   "source": [
    "### Cada MODEL me va a exigir una forma diferente de generar embeddings, tanto chat gpg como llama, por eso usaba\n",
    "---\n",
    "if MODEL.startswith(\"gpt\"):\n",
    "\n",
    "    model = ChatOpenAI(api_key=OPENAI_API_KEY, model = MODEL)\n",
    "    \n",
    "    embeddings = OpenAIEmbeddings()\n",
    "else:\n",
    "\n",
    "    model = Ollama(model = MODEL)    \n",
    "    \n",
    "    embeddings = OllamaEmbeddings()"
   ]
  },
  {
   "cell_type": "code",
   "execution_count": 30,
   "metadata": {
    "metadata": {}
   },
   "outputs": [],
   "source": [
    "from langchain_community.vectorstores import DocArrayInMemorySearch\n",
    "\n",
    "#Creo un vectorstore en memoria, solo para motivos del ejercicio, para algo permanente\n",
    "# Mejor usar almacenamiento permanente, algo como pinecone\n",
    "\n",
    "vectorstore = DocArrayInMemorySearch.from_documents(\n",
    "    pages,\n",
    "    embedding=embeddings\n",
    ")\n",
    "# vectorstore"
   ]
  },
  {
   "cell_type": "markdown",
   "metadata": {},
   "source": [
    "### Ahora llamamos el vectorstore y le mandamos una consulta"
   ]
  },
  {
   "cell_type": "code",
   "execution_count": 35,
   "metadata": {
    "metadata": {}
   },
   "outputs": [
    {
     "data": {
      "text/plain": [
       "[Document(page_content='some of you in solving similar problems later, or at least satisfy some ofyour curiosity when it comes to graph theory and some of its\\napplications.\\nThe cases discussed in the article covers just a few examples that\\nillustrate some of the possibilities that exist. If you have previous\\nexperience and ideas on the topic, it would be interesting to hear your\\nthoughts in the comments below!\\nIf you found the article interesting, you might also enjoy some of my other\\nposts on various topics related to AI, Machine Learning, Data Science, etc.,\\navailable on my medium author proﬁle\\n(This post was originally published on towardsdatascience.com  )\\nReport this\\nPublished by\\nVegard Flovik, PhDVP AI & Data Science at Aize | Associate Professor in Data SciencePublished • 3y9\\narticlesFollow\\nBack from vacation --> time for a new blog post!\\nGraph theory might sound like an intimidating and abstract topic to you, so why\\nshould you even spend your time reading an article about it? However, although it\\nmight not sound very applicable, there are actually an abundance of useful and\\nimportant applications of graph theory!\\nThis article gives you a gentle introduction to the topic, and discuss the application\\nof graph theory for path planning/optimization (with an example case applying\\nthese techniques for warehouse optimization).\\nHope you ﬁnd it interesting!\\n#datascience #mathematics #optimization\\nReactions\\n+86\\n2 Comments\\nMost relevantAdd a comment…\\nHenri HagenowCEO AIME GmbH, GPU-Cloud, Machine Learning, AI Consulting | UX-Expert\\nLike ·1Reply·1 Reply•3rd+ 3yStephen Wolfram recently presented his graph theory of physics - veryinteresting approach and beautiful to look at:https://writings.stephenwolfram.com/2020/04/ﬁnally-we-may-have-a-path-to-the-fundamental-theory-of-physics-and-its-beautiful/\\nVegard Flovik, PhDVP AI & Data Science at Aize | Associate Professor in Data Science\\nLike ·1Reply•3rd+ 3yThanks for the link, Henri Hagenow . He does indeed have somevery interesting ideas when it comes to emergent complexety etc.However, I guess only time will show if his ideas produce any new\\nquantitative results as well.\\nVegard Flovik, PhD\\nVP AI & Data Science at Aize | Associate Professor in Data ScienceFollow\\nLikeComment Share\\n98·2 comments(2) What is Graph Theory, and why should you care? | ... https://www.linkedin.com/pulse/what-graph-theory-wh...\\n9 of 10 5/27/24, 22:07', metadata={'source': 'grafo.pdf', 'page': 8}),\n",
       " Document(page_content='More from Vegard Flovik, PhD\\nSee all 9 articles\\nHow (not) to use MachineLearning for time seriesforecasting: The sequelVegard Flovik, PhD on Linke…\\nBuilding an AI that can readyour mindVegard Flovik, PhD on Linke…\\nMachine Learning: Fromhype to real-worldapplicationsVegard Flovik, PhD on Linke…\\nAbout Accessibility Talent Solutions\\nCommunity Guidelines Careers Marketing Solutions\\nAd Choices Advertising\\nSales Solutions Mobile Small Business\\nSafety CenterQuestions?\\nVisit our Help Center.\\nManage your account and privacy\\nGo to your Settings.\\nRecommendation transparency\\nLearn more about Recommended Content.Select Language\\nLinkedIn Corporation © 2024Privacy & TermsEnglish (English)(2) What is Graph Theory, and why should you care? | ... https://www.linkedin.com/pulse/what-graph-theory-wh...\\n10 of 10 5/27/24, 22:07', metadata={'source': 'grafo.pdf', 'page': 9}),\n",
       " Document(page_content='By providing a list of picking orders as input, one can thus relatively\\neasily calculate statistics on typical mileage per. picking order. These\\nstatistics can then also be ﬁltered on various information such as item\\ntype, customer, date, etc. In the following section, I have thus picked a\\nfew examples on how one can extract interesting statistics from such a\\npath optimization tool.\\nIn doing this, I ﬁrst generated 10.000 picking order lists where the\\nnumber of items per list ranges from 1–30 items, located at random\\npickup points in the warehouse (address 3–74 in the ﬁgure above). By\\nperforming the path optimization procedure over all these picking list,\\nwe can then extract some interesting statistics.\\nExample 1:\\xa0 Calculate mileage as a function of the number of units per.\\npicking order list. Here, you would naturally assume that the total\\nmileage increases the more items you have to pick. But, at some level,\\nthis will start to ﬂatten out. This is due to the fact that one eventually\\nhas to stop by all the corridors in the warehouse to pick up goods, which\\nthen prevents us from making use of clever “shortcuts” to minimize the\\ntotal driving distance. This tendency can be illustrated in the ﬁgure\\nbelow to the left, which illustrates that for more than approximately 15–\\n20 units per picking order, adding extra items does not make the total\\nmileage much longer (as you have to drive through all corridors of the\\nwarehouse anyway). Note that the ﬁgures show a “density plot” of the\\ndistribution of typical mileage per. picking orders list\\nAnother interesting statistic, which shows the same trend, is the\\ndistribution of driving distance per picked item in the ﬁgure to the right.\\nHere, we see that for picking lists with few items, the typical mileage\\nper. item is relatively high (with a large variance, depending on how\\n“lucky” we are with some items being located in the same corridor etc.).\\nFor picking lists with several items though, the mileage per. item is\\ngradually decreasing. This type of statistic can thus be interesting to\\ninvestigate closer, in order to optimize how many items each picking\\norder list should contain in order to minimize the mileage per picked\\nitem.\\nExample 2: \\xa0Here I have used real-world data that also contains additional\\ninformation in the form of a customer ID (here shown for only two\\ncustomers). We can then take a closer look at the distribution in mileage\\nper. picking order list for the two customers. For example, do you\\ntypically have to drive longer distances to pick the goods of one\\ncustomer versus another? And, should you charge that customer extra\\nfor this additional cost?\\nThe below ﬁgure to the left shows the distribution in mileage for\\n«Customer 1» and «Customer 2» respectively. One of the things we can\\ninterpret from this is that for customer 2, most picking order lists have a\\nnoticeably shorter driving distance compared to customer 1. This can\\nalso be shown by calculating the average mileage per. picking order list\\nfor the two customers (ﬁgure to the right).\\nThis type of information can e.g. be used to implement pricing models\\nwhere the product price to the customer is also based on mileage per\\norder. For customers where the order involves more driving (and thus\\nalso more time and higher cost) you can consider invoicing extra\\ncompared to orders that involve short driving distances.\\nSummary:\\nIn the end, I hope I have convinced you that graph theory is not just some\\nabstract mathematical concept, but that it actually has many useful and\\ninteresting applications! Hopefully, the examples above will be useful forsome of you in solving similar problems later, or at least satisfy some of\\n(2) What is Graph Theory, and why should you care? | ... https://www.linkedin.com/pulse/what-graph-theory-wh...\\n8 of 10 5/27/24, 22:07', metadata={'source': 'grafo.pdf', 'page': 7}),\n",
       " Document(page_content='This matrix indicates all constraints with regard to both the permitted\\ndirection of travel, which “shortcuts” are permitted, any other\\nrestrictions as well as the driving distance between the nodes\\n(illustrated through the color). As an example, the “shortcut” between\\nnodes 21 and 41 shown in the graph representation can clearly be\\nidentiﬁed also in the adjacency matrix. The “white areas” of the matrix\\nrepresents the paths that are not allowed, indicated through an\\n“inﬁnite” distance between those nodes.\\nFrom graph representation to path optimization\\nJust having an abstracted representation of our warehouse in the form\\nof a graph, does of course not solve our actual problem. The idea is\\nrather that through this graph representation, we can now use the\\nmathematical framework and algorithms from graph theory to solve it!\\nSince graph optimization is a well-known ﬁeld in mathematics, there are\\nseveral methods and algorithms that can solve this type of problem. In\\nthis example case, I have based the solution on the “ Floyd-Warshall\\nalgorithm ”, which is a well known\\xa0 algorithm \\xa0for ﬁnding\\xa0 shortest\\npaths \\xa0in a\\xa0weighted graph . A single execution of the algorithm will ﬁnd\\nthe lengths (summed weights) of shortest paths between all pairs of\\nnodes. Although it does not return details of the paths themselves, it is\\npossible to reconstruct the paths with simple modiﬁcations to the\\nalgorithm.\\nIf you give this algorithm as input a “picking order list” where you go\\nthrough a list of items you want to pick, you should then be able to\\nobtain the optimal route which minimize the total driving distance to\\ncollect all items on the list.\\nExample:\\xa0 Let us start by visualizing the results for a (short) picking list as\\nfollows: Start from node «0», pick up items at location/node 15, 45, 58\\nand 73 (where these locations are illustrated in the ﬁgure below). The\\nalgorithm ﬁnds the shortest allowable route between these points\\nthrough calculating the “distance matrix”,\\xa0 D, which can then be used to\\ndetermine the total driving distance between all locations/nodes in the\\npicking list.\\n• Step 1:\\xa0D[0][15] → 90 m\\n• Step 2:\\xa0D[15][45] →52 m\\n• Step 3:\\xa0D[45][58] → 34 m\\n• Step 4:\\xa0D[58][73] → 92 m\\nTotal distance = 268m\\nHave tested several “picking lists” as input and verifying the proposed\\ndriving routes and calculated distance, the algorithm has been able to\\nﬁnd the optimal route in all cases. The algorithm respects all the\\nimposed constraints, such as the permitted direction of travel, and uses\\nall permitted “shortcuts” to minimize the total distance.\\nFrom path optimization to useful\\ninsights\\nAs shown through the above example, we have developed an\\noptimization algorithm that calculates the optimal driving route via all\\npoints on a picking order list (for a simpliﬁed version of the warehouse).\\n(2) What is Graph Theory, and why should you care? | ... https://www.linkedin.com/pulse/what-graph-theory-wh...\\n7 of 10 5/27/24, 22:07', metadata={'source': 'grafo.pdf', 'page': 6})]"
      ]
     },
     "execution_count": 35,
     "metadata": {},
     "output_type": "execute_result"
    }
   ],
   "source": [
    "# El retriver es un elemento de langchain que nos permite recuperar información de cualquier parte\n",
    "retriever = vectorstore.as_retriever()\n",
    "retriever.invoke(\"Bridge\")\n",
    "\n",
    "#Me va a entregar los documentos más relevantes tema enviado"
   ]
  },
  {
   "cell_type": "code",
   "execution_count": 46,
   "metadata": {
    "metadata": {}
   },
   "outputs": [
    {
     "data": {
      "text/plain": [
       "'No, weighted graphs are not necessarily directed graphs. A weighted graph is a graph that has additional information associated with each edge, known as the weight or cost of traveling between the two nodes connected by that edge. The weights can be any type of number, such as distance, time, or money.\\n\\nA directed graph, on the other hand, is a graph in which the edges have a direction, indicating the direction of travel along each edge. In a directed graph, edges are often represented as arrows, with the tail of the arrow representing the starting node and the head representing the ending node.\\n\\nWhile weighted graphs can be directed graphs, not all directed graphs are weighted graphs. For example, a graph consisting of only undirected edges without any weights would still be considered an undirected graph. Similarly, a graph with both directed and undirected edges could be considered a mixed graph or a hybrid graph, but it is not necessarily a weighted graph.\\n\\nIn the article you provided, the author mentions several types of graphs, including undirected graphs, directed graphs, and weighted graphs. The author also notes that there are other types of graphs, such as mixed and hybrid graphs, but these are beyond the scope of the article.'"
      ]
     },
     "execution_count": 46,
     "metadata": {},
     "output_type": "execute_result"
    }
   ],
   "source": [
    "from operator import itemgetter\n",
    "#itemgetter me permite llamar el contenido de un diccionario\n",
    "\n",
    "chain = (\n",
    "    {\n",
    "        \"context\": itemgetter(\"question\") | retriever,\n",
    "        \"question\": itemgetter(\"question\")\n",
    "    }    \n",
    "    | prompt\n",
    "    | model\n",
    "    | parser\n",
    ")\n",
    "\n",
    "chain.invoke({\"question\":\"Weighted graphs are directed graphs?\"})"
   ]
  },
  {
   "cell_type": "code",
   "execution_count": 55,
   "metadata": {
    "metadata": {}
   },
   "outputs": [
    {
     "name": "stdout",
     "output_type": "stream",
     "text": [
      "Question: What types of graphs the article mention\n",
      "Answer: The article mentions several types of graphs, including:\n",
      "\n",
      "1. Undirected Graphs: In this type of graph, there is no direction associated with the edges, and nodes can be reached from any other node without any orientation.\n",
      "2. Directed Graphs (DiGraphs): Unlike undirected graphs, directed graphs have orientation or direction among different nodes. Edges show the bidirectional roads.\n",
      "3. Weighted Graphs: Many graphs can have edges containing a weight associated to represent a real-world implication such as cost, distance, quantity etc… These weighted graphs are commonly used to program GPS’s and travel-planning search engines that compare flight times and costs.\n",
      "4. Routing Graphs: This problem can be formulated as an optimization problem in graph theory. All pickup points in the warehouse form a “node” in the graph, where the edges represent permitted lanes/corridors and distances between the nodes. Simple enough, right? Being able to represent the permitted driving routes in the form of a graph means that we can use mathematical techniques known from graph theory to find the optimal “driving route” between the nodes (i.e., the shortest route that passes all the pickup points but also complies to the restrictions with regard to where it is possible/allowed to drive).\n",
      "\n",
      "Question: What's the traveling salesman problem?\n",
      "Answer: The traveling salesman problem (TSP) is a classic problem in combinatorial optimization and operations research that involves finding the shortest possible route that visits a set of cities and returns to the starting city. It is an NP-hard problem, which means that the running time of algorithms for solving TSP increases rapidly as the size of the input increases.\n",
      "\n",
      "In TSP, we are given a set of cities and their pairwise distances, and the task is to find the shortest possible route that visits each city exactly once and returns to the starting city. The problem can be formulated in various ways, including:\n",
      "\n",
      "1. Graph-based formulation: Represent the cities as vertices in a weighted graph, where each edge represents the distance between two cities. The goal is to find the shortest possible route that visits each vertex exactly once and returns to the starting vertex.\n",
      "2. Matrix-based formulation: Represent the cities as integers in a matrix, where the entries in the matrix represent the distances between adjacent cities. The goal is to find the shortest possible row (or column) sum that visits each city exactly once and returns to the starting city.\n",
      "3. Linear programming formulation: Represent the cities as variables, and use linear programming techniques to find the optimal solution.\n",
      "\n",
      "The traveling salesman problem has many applications in real-world scenarios, including:\n",
      "\n",
      "1. Logistics and transportation planning: TSP can be used to optimize routes for delivery trucks, taxis, or any other vehicle that needs to visit a set of locations.\n",
      "2. Telecommunications network design: TSP can be used to optimize the placement of telecommunications towers or other network infrastructure to minimize the total distance traveled.\n",
      "3. VLSI design: TSP can be used to optimize the placement of components on an integrated circuit chip to minimize the total distance traveled between components.\n",
      "4. Genomics: TSP can be used to optimize the sequencing of DNA samples to minimize the total distance traveled between genomic locations.\n",
      "5. Data compression: TSP can be used to optimize the placement of data bits in a compressed data stream to minimize the total distance traveled between data points.\n",
      "\n",
      "The traveling salesman problem is known to be NP-hard, which means that there is no known polynomial-time algorithm for solving TSP exactly for large instances. However, heuristics and approximation algorithms can be used to find good approximations of the optimal solution in reasonable time.\n",
      "\n",
      "Question: What's a method that can solve the warehouse problem?\n",
      "Answer: There are several methods that can be used to solve the warehouse route optimization problem, including:\n",
      "\n",
      "1. Breadth-First Search (BFS): This is a simple and widely used algorithm for finding the shortest path in a graph. It works by exploring all nodes in the graph level by level, starting from the source node.\n",
      "2. Depth-First Search (DFS): This algorithm explores the graph in a depth-first manner, starting from the source node. It is useful for finding the shortest path in a graph with complex structures.\n",
      "3. Dijkstra's algorithm: This algorithm is widely used for solving the traveling salesman problem, which is similar to the warehouse route optimization problem. It works by computing the shortest distance between each pair of nodes in the graph and selecting the optimal route.\n",
      "4. Genetic Algorithm (GA): This is a heuristic search algorithm that uses principles of natural selection and genetics to find the optimal solution. It is useful for solving complex optimization problems.\n",
      "5. Ant Colony Optimization (ACO) algorithm: This algorithm is inspired by the behavior of ants searching for food. It works by simulating the behavior of ants as they deposit and follow pheromone trails to find the shortest path between nodes in a graph.\n",
      "6. Particle Swarm Optimization (PSO) algorithm: This algorithm is inspired by the behavior of birds flocking together to find food. It works by simulating the behavior of particles as they move through space and follow pheromone trails to find the shortest path between nodes in a graph.\n",
      "7. Simulated Annealing (SA) algorithm: This algorithm is inspired by the process of annealing in metallurgy. It works by starting with an initial solution and iteratively applying small changes to the solution to find the optimal solution.\n",
      "8. Bee Colony Optimization (BCO) algorithm: This algorithm is inspired by the behavior of bees searching for nectar. It works by simulating the behavior of bees as they move through space and follow pheromone trails to find the shortest path between nodes in a graph.\n",
      "9. Firefly Algorithm (FA): This algorithm is inspired by the behavior of fireflies emitting light to attract mates. It works by simulating the behavior of fireflies as they emit light to attract each other and find the optimal solution.\n",
      "10. Cuckoo Search (CS) algorithm: This algorithm is inspired by the behavior of cuckoo birds laying eggs in nests. It works by simulating the behavior of cuckoo birds as they lay eggs in different nests to find the optimal solution.\n",
      "\n",
      "Each of these algorithms has its strengths and weaknesses, and the choice of which one to use depends on the specific problem and the characteristics of the graph. In general, BFS and Dijkstra's algorithm are simple and efficient methods for solving the warehouse route optimization problem, while GA, ACO, PSO, SA, BCO, FA, and CS are more advanced algorithms that can be used to solve larger and more complex problems.\n",
      "\n"
     ]
    }
   ],
   "source": [
    "questions = [\n",
    "    \"What types of graphs the article mention\",\n",
    "    \"What's the traveling salesman problem?\",\n",
    "    \"What's a method that can solve the warehouse problem?\",\n",
    "]\n",
    "\n",
    "for question in questions:\n",
    "    print(f\"Question: {question}\")\n",
    "    print(f\"Answer: {chain.invoke({'question': question})}\")\n",
    "    print()"
   ]
  },
  {
   "cell_type": "markdown",
   "metadata": {},
   "source": [
    "## ¿Cómo hacemos una respuesta \"bonita\", que parezca generada por un LLM comercial?\n",
    "### Usamos un stream"
   ]
  },
  {
   "cell_type": "code",
   "execution_count": 57,
   "metadata": {},
   "outputs": [
    {
     "name": "stdout",
     "output_type": "stream",
     "text": [
      "The purpose of this article appears to be twofold:\n",
      "\n",
      "1. To introduce the concept of graph theory and explain why it is relevant and useful in solving real-world problems, particularly in the context of a warehouse picking list.\n",
      "2. To provide a simple example of how graph theory can be applied to solve a logistics problem in a warehouse setting. The author explains how the problem can be formulated as an optimization problem in graph theory and how mathematical techniques known from graph theory can be used to find the optimal \"driving route\" between the various nodes in the warehouse.\n",
      "\n",
      "Overall, the article seems to aim at demonstrating the potential of graph theory in addressing logistics problems and encouraging readers to explore the topic further."
     ]
    }
   ],
   "source": [
    "for s in chain.stream({\"question\": \"What is the purpose of the article?\"}):\n",
    "    print(s, end=\"\", flush=True)"
   ]
  },
  {
   "cell_type": "markdown",
   "metadata": {},
   "source": [
    "## Ahora una respuesta en batch para alimentar algun otro producto\n",
    "### Batch\n"
   ]
  },
  {
   "cell_type": "code",
   "execution_count": 58,
   "metadata": {},
   "outputs": [
    {
     "data": {
      "text/plain": [
       "['The article mentions several types of graphs, including:\\n\\n1. Undirected Graphs: A graph where there is no direction associated with edges. Each node can be reached from any other node without any orientation or direction.\\n2. Directed Graphs (DiGraphs): A graph where the orientation or direction of edges is specified. There is a beginning and end to each edge, and you can move only in one direction.\\n3. Weighted Graphs: A graph where each edge has a weight or cost associated with it. These graphs are commonly used to program GPS\\'s and travel-planning search engines that compare flight times and costs.\\n4. Shortest Route Graph Theory: This problem can be formulated as an optimization problem in graph theory, where all pickup points in the warehouse form a \"node\" in the graph, with edges representing permitted lanes/corridors and distances between the nodes.',\n",
       " 'The traveling salesman problem is a classic problem in combinatorial optimization and operations research that involves finding the shortest possible route that visits a set of cities and returns to the starting city. It is a well-known example of a NP-hard problem, which means that there is no known polynomial-time algorithm for solving it exactly for large instances unless P=NP.\\n\\nThe problem can be defined as follows: given a set of cities {(x1, y1), (x2, y2), ..., (xn, yn)} and their pairwise distances {d1 = distance(x1, y1, x2, y2), d2 = distance(x1, y1, x2, y2), ..., dn = distance(xn, yn, xm, ym)}, find the shortest possible route that visits each city exactly once and returns to the starting city. The distance matrix {d1, d2, ..., dn} is sometimes called the \"edge weight\" or \"distance matrix\" of the problem.\\n\\nThe traveling salesman problem has many applications in real-world logistics, transportation, and supply chain management, such as designing routes for delivery trucks, scheduling flights for airlines, or planning supply chain networks for companies. It is also an important benchmark problem for testing the performance of algorithms for solving combinatorial optimization problems.\\n\\nThere are several approaches to solve the traveling salesman problem, including exact methods (e.g., branch and bound), heuristics (e.g., nearest neighbor, genetic algorithms), and approximate methods (e.g., linear programming relaxations of the integer programming formulation). The choice of approach depends on the size and complexity of the problem instance, as well as the desired level of accuracy and computational efficiency.',\n",
       " \"There are several methods that can be used to solve the warehouse optimization problem, including:\\n\\n1. Breadth-first search (BFS): This is a simple algorithm that explores all possible routes from the starting point and selects the shortest path. While this method is efficient in terms of time complexity, it may not always find the optimal solution due to its greedy nature.\\n2. Depth-first search (DFS): Similar to BFS, DFS also explores all possible routes but does so by depth-first search instead of breadth-first search. DFS is more likely to find an optimal solution than BFS but may take longer to converge.\\n3. Dijkstra's algorithm: This algorithm is designed to find the shortest path between two nodes in a graph. It works by iteratively relaxing the distance bound and updating the distance of each node until the destination node is reached. While it can find the optimal solution, it may not be efficient for large graphs.\\n4. Bellman-Ford algorithm: This algorithm is similar to Dijkstra's algorithm but can handle negative weight edges. It works by iteratively relaxing the distance bound and updating the distance of each node until the destination node is reached. While it can find the optimal solution, it may not be efficient for large graphs.\\n5. Genetic algorithms: These are a class of optimization algorithms that use principles of natural selection and genetics to search for an optimal solution. They work by generating a population of candidate solutions and iteratively improving them through crossover and mutation operations until the optimal solution is found. While they can find optimal solutions, they may be slower than other methods and require more computational resources.\\n6. Ant colony optimization: This algorithm is inspired by the behavior of ants searching for food. It works by simulating the behavior of ants as they deposit and follow pheromone trails to find the shortest path between nodes in a graph. While it can find optimal solutions, it may be slower than other methods and require more computational resources.\\n7. Simulated Annealing: This algorithm is inspired by the process of annealing in metallurgy, where a material is heated and then cooled slowly to remove defects. It works by iteratively relaxing the distance bound and updating the distance of each node until the destination node is reached. While it can find optimal solutions, it may be slower than other methods and require more computational resources.\\n8. Particle Swarm Optimization: This algorithm is inspired by the behavior of birds flocking together to find food. It works by simulating the behavior of particles as they move through a graph and adjust their positions based on the positions of nearby particles. While it can find optimal solutions, it may be slower than other methods and require more computational resources.\\n9. Hybrid algorithms: These are algorithms that combine two or more of the above methods to solve the problem. For example, a hybrid algorithm might use BFS to explore the graph and then use Dijkstra's algorithm to find the shortest path within each explored region. While they can find optimal solutions, they may be slower than other methods and require more computational resources.\\n10. Machine learning algorithms: These are algorithms that use machine learning techniques such as neural networks or support vector machines to solve optimization problems. They work by training a model on a dataset of examples and then using the trained model to make predictions about the optimal solution. While they can find optimal solutions, they may be slower than other methods and require more computational resources.\\n\\nIn conclusion, there are many algorithms that can solve the warehouse optimization problem, each with its own strengths and weaknesses. The choice of algorithm will depend on the specific characteristics of the problem, such as the size of the graph, the number of items to be picked up, and the allowed travel distance within the warehouse.\"]"
      ]
     },
     "execution_count": 58,
     "metadata": {},
     "output_type": "execute_result"
    }
   ],
   "source": [
    "chain.batch([{\"question\": q} for q in questions])"
   ]
  }
 ],
 "metadata": {
  "kernelspec": {
   "display_name": ".venv",
   "language": "python",
   "name": "python3"
  },
  "language_info": {
   "codemirror_mode": {
    "name": "ipython",
    "version": 3
   },
   "file_extension": ".py",
   "mimetype": "text/x-python",
   "name": "python",
   "nbconvert_exporter": "python",
   "pygments_lexer": "ipython3",
   "version": "3.10.12"
  }
 },
 "nbformat": 4,
 "nbformat_minor": 2
}
